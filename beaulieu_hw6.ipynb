{
 "cells": [
  {
   "cell_type": "markdown",
   "metadata": {},
   "source": [
    "Tyler Beaulieu  \n",
    "DS5020, Spring 2025   \n",
    "February 18, 2025\n",
    "\n",
    "<h4 style=\"text-align:center;\">Homework 6</h4>"
   ]
  },
  {
   "cell_type": "code",
   "execution_count": 1,
   "metadata": {},
   "outputs": [],
   "source": [
    "#Import Pandas and Numpy\n",
    "import numpy as np\n",
    "import matplotlib.pyplot as plt"
   ]
  },
  {
   "cell_type": "markdown",
   "metadata": {},
   "source": [
    "You are free to use either R or Python for the programming exercises. Please refrain from using libraries. Please write your code using only linear algebra concepts as opposed to using libraries. I would anticipate that this entire assignment can be completed only with the use of numpy for those who will use Python.\n",
    "\n",
    "We begin this assignment with an example where a least squares approximation is not required and then we generalize the problem so that it is required.\n",
    "\n",
    "#### Polynomial interpolation\n",
    "We begin this section with a theorem.\n",
    "\n",
    "**Theorem 1.** Let $(x_1, y_1), (x_2, y_2), . . . , (x_n, y_n)$ be a collection of $n$ points in $\\mathbb{R}^2$. There exists a unique $(n−1)$-order polynomial.\n",
    "\n",
    "&emsp;$f(x)=b_0+b_1x+b_2x^2+...+b_{n-1}x^{n-1},$\n",
    "\n",
    "*Proof.* Let $\\mathbf{b}=(b_0,b_1,...,b_{n-1})'$ be the vector of coefficients and define the matrix $\\mathbf{A} ∈ \\mathbb{R}^{n×n}$ as consisting of columns\n",
    "\n",
    "&emsp;$a_k=\\begin{pmatrix}x_1^k\\\\x_2^k\\\\...\\\\x_n^k\\end{pmatrix}∈\\mathbb{R}^n$\n",
    "\n",
    "for $k=0,1,...,n-1$. Since the columns of $\\mathbf{A = \\begin{bmatrix}a_0 & a_1 & ... & a_{n−1}\\end{bmatrix}}$ are linearly independent then there exists a unique solution $\\hat b ∈ \\mathbb{R}^n$ such that\n",
    "\n",
    "&emsp;**$\\mathbf{y=A\\hat b,}$**\n",
    "\n",
    "where $\\mathbf{y} = \\begin{pmatrix}y_1 & y_2 & ... & y_n\\end{pmatrix}'$, namely, $\\mathbf{\\hat b = A^{-1}y}$.\n"
   ]
  },
  {
   "cell_type": "markdown",
   "metadata": {},
   "source": [
    "---------------------------"
   ]
  },
  {
   "cell_type": "markdown",
   "metadata": {},
   "source": [
    "## Problem 1\n",
    "\n",
    "**1.1** Write a program that simulates $n ∈ \\mathbb{Z}_+$ data points $(x_i, y_i)$, for $i = 1, 2, . . . , n$. I would recommend using the standard normal probability distribution to simulate data."
   ]
  },
  {
   "cell_type": "code",
   "execution_count": 2,
   "metadata": {},
   "outputs": [
    {
     "name": "stdout",
     "output_type": "stream",
     "text": [
      "[-0.30218603  0.28350893  0.06013565 -0.06230133 -0.28158239  0.31380073\n",
      "  0.98709713 -0.9512239 ]\n",
      "[ 1.39137273 -0.19338205  0.49344339 -0.19102291 -1.52776001 -2.44063228\n",
      " -0.20932145 -2.02176568]\n"
     ]
    }
   ],
   "source": [
    "#Function to simulate n data points\n",
    "def prob1_1(n):\n",
    "    x = np.random.randn(n)\n",
    "    y = np.random.randn(n)\n",
    "    return x,y\n",
    "\n",
    "#Using function to simulate 8 data points\n",
    "x,y=prob1_1(8)\n",
    "print(x)\n",
    "print(y)\n"
   ]
  },
  {
   "cell_type": "markdown",
   "metadata": {},
   "source": [
    "**1.2** Write a program that accepts as input the vectors $\\mathbf{x, y} ∈ \\mathbb{R}^n$ consisting of\n",
    "\n",
    "&emsp;$\\mathbf{x}=\\begin{pmatrix} x_1 \\\\ x_2 \\\\ ... \\\\ x_n \\end{pmatrix}$&emsp;$\\mathbf{y}=\\begin{pmatrix} y_1 \\\\ y_2 \\\\ ... \\\\ y_n \\end{pmatrix}$\n",
    "\n",
    "and computes the vector of coefficients $\\mathbf{\\hat b = A^{-1}y}$."
   ]
  },
  {
   "cell_type": "code",
   "execution_count": 3,
   "metadata": {},
   "outputs": [
    {
     "name": "stdout",
     "output_type": "stream",
     "text": [
      "[3. 1. 0.]\n"
     ]
    }
   ],
   "source": [
    "#Function that computes the vector of coefficients b_hat.\n",
    "def prob1_2(x,y):\n",
    "    #Get n\n",
    "    n = int(len(x))\n",
    "\n",
    "    #Build matrix A\n",
    "    a = np.zeros((n,n))\n",
    "    for i in range(n):\n",
    "        for j in range(n):\n",
    "            a[i][j]=x[i]**(j)\n",
    "\n",
    "    #Calculate b_hat\n",
    "    a_inv = np.linalg.inv(a)\n",
    "    b_hat = np.matmul(a_inv,y)\n",
    "    return b_hat\n",
    "\n",
    "#Running an example\n",
    "x=[1,2,3]\n",
    "y=[4,5,6]\n",
    "print(prob1_2(x,y))"
   ]
  },
  {
   "cell_type": "markdown",
   "metadata": {},
   "source": [
    "**1.3** Write a program that computes\n",
    "\n",
    "&emsp;$\\hat f(x)=\\hat b_0+\\hat b_1x+...+\\hat b_{n-1}x^{n-1}$.\n",
    "\n",
    "for any $x∈\\mathbb{R}$. I would recommend implementing Horner's rule."
   ]
  },
  {
   "cell_type": "code",
   "execution_count": 4,
   "metadata": {},
   "outputs": [
    {
     "name": "stdout",
     "output_type": "stream",
     "text": [
      "129\n"
     ]
    }
   ],
   "source": [
    "#Function that evaluates f(x) for any x \n",
    "\n",
    "def prob1_3(x,b_hat):\n",
    "    #Use Horner's Method to computer f(x)\n",
    "    fx = b_hat[len(b_hat)-1]\n",
    "    for b in range(len(b_hat) - 2, -1, -1):\n",
    "        fx = fx*x + b_hat[b]\n",
    "    return fx\n",
    "\n",
    "#Run an example\n",
    "print(prob1_3(2,[1,2,3,4,5]))"
   ]
  },
  {
   "cell_type": "markdown",
   "metadata": {},
   "source": [
    "**1.4** Write a script that can produce plots that look somewhat like the following examples. \n",
    "\n",
    "<img src=\"pics/1_4.png\" width =\"650\">\n",
    "\n",
    "I encourage you to consider a wide range of n-values in order to see how the constraints, i.e., the $n$ data points, cause the polynomial to exhibit erratic behavior."
   ]
  },
  {
   "cell_type": "code",
   "execution_count": 5,
   "metadata": {},
   "outputs": [
    {
     "name": "stderr",
     "output_type": "stream",
     "text": [
      "C:\\Users\\tyler\\AppData\\Local\\Temp\\ipykernel_28876\\210834878.py:12: UserWarning: color is redundantly defined by the 'color' keyword argument and the fmt string \"ro\" (-> color='r'). The keyword argument will take precedence.\n",
      "  plt.plot(x,y,'ro',c='black')\n",
      "C:\\Users\\tyler\\AppData\\Local\\Temp\\ipykernel_28876\\210834878.py:13: UserWarning: color is redundantly defined by the 'color' keyword argument and the fmt string \"-r\" (-> color='r'). The keyword argument will take precedence.\n",
      "  plt.plot(fx,fy,'-r',c='black')\n"
     ]
    },
    {
     "data": {
      "image/png": "[encoded data removed]",
      "text/plain": [
       "<Figure size 400x400 with 1 Axes>"
      ]
     },
     "metadata": {},
     "output_type": "display_data"
    }
   ],
   "source": [
    "#Function that plots points and polynomials generated earlier.\n",
    "def prob1_4(x,y,b_hat):\n",
    "    \n",
    "    #Get polynomial function points\n",
    "    fx = np.linspace(-3,3,31)\n",
    "    fy = np.zeros(31)\n",
    "    for index in range(31):\n",
    "        fy[index] = prob1_3(fx[index],b_hat)\n",
    "\n",
    "    #Generate the Plot\n",
    "    plt.figure(figsize=(4,4))\n",
    "    plt.plot(x,y,'ro',c='black')\n",
    "    plt.plot(fx,fy,'-r',c='black')\n",
    "    plt.title(\"n = \"+str(len(x)))\n",
    "    plt.xlim([-3,3])\n",
    "    plt.ylim([-3,3])\n",
    "    plt.axvline(x=0, c='black')\n",
    "    plt.axhline(y=0, c='black')\n",
    "\n",
    "\n",
    "#Plot 1\n",
    "x=np.array([-1,2])\n",
    "y=np.array([-2,1])\n",
    "b_hat = prob1_2(x,y)\n",
    "prob1_4(x,y,b_hat)"
   ]
  },
  {
   "cell_type": "code",
   "execution_count": 6,
   "metadata": {},
   "outputs": [
    {
     "name": "stderr",
     "output_type": "stream",
     "text": [
      "C:\\Users\\tyler\\AppData\\Local\\Temp\\ipykernel_28876\\210834878.py:12: UserWarning: color is redundantly defined by the 'color' keyword argument and the fmt string \"ro\" (-> color='r'). The keyword argument will take precedence.\n",
      "  plt.plot(x,y,'ro',c='black')\n",
      "C:\\Users\\tyler\\AppData\\Local\\Temp\\ipykernel_28876\\210834878.py:13: UserWarning: color is redundantly defined by the 'color' keyword argument and the fmt string \"-r\" (-> color='r'). The keyword argument will take precedence.\n",
      "  plt.plot(fx,fy,'-r',c='black')\n"
     ]
    },
    {
     "data": {
      "image/png": "[encoded data removed]",
      "text/plain": [
       "<Figure size 400x400 with 1 Axes>"
      ]
     },
     "metadata": {},
     "output_type": "display_data"
    }
   ],
   "source": [
    "#Plot 2\n",
    "x=np.array([.3,.7,2.1])\n",
    "y=np.array([-2,.2,-.2])\n",
    "b_hat = prob1_2(x,y)\n",
    "prob1_4(x,y,b_hat)"
   ]
  },
  {
   "cell_type": "code",
   "execution_count": 7,
   "metadata": {},
   "outputs": [
    {
     "name": "stderr",
     "output_type": "stream",
     "text": [
      "C:\\Users\\tyler\\AppData\\Local\\Temp\\ipykernel_28876\\210834878.py:12: UserWarning: color is redundantly defined by the 'color' keyword argument and the fmt string \"ro\" (-> color='r'). The keyword argument will take precedence.\n",
      "  plt.plot(x,y,'ro',c='black')\n",
      "C:\\Users\\tyler\\AppData\\Local\\Temp\\ipykernel_28876\\210834878.py:13: UserWarning: color is redundantly defined by the 'color' keyword argument and the fmt string \"-r\" (-> color='r'). The keyword argument will take precedence.\n",
      "  plt.plot(fx,fy,'-r',c='black')\n"
     ]
    },
    {
     "data": {
      "image/png": "[encoded data removed]",
      "text/plain": [
       "<Figure size 400x400 with 1 Axes>"
      ]
     },
     "metadata": {},
     "output_type": "display_data"
    }
   ],
   "source": [
    "#Plot 3\n",
    "x=np.array([-1.8,-1.2,-0.7,0.7,1.2,2.5])\n",
    "y=np.array([1.5,-0.2,0.3,1.5,-0.6,-0.5])\n",
    "b_hat = prob1_2(x,y)\n",
    "prob1_4(x,y,b_hat)"
   ]
  },
  {
   "cell_type": "code",
   "execution_count": 8,
   "metadata": {},
   "outputs": [
    {
     "name": "stderr",
     "output_type": "stream",
     "text": [
      "C:\\Users\\tyler\\AppData\\Local\\Temp\\ipykernel_28876\\210834878.py:12: UserWarning: color is redundantly defined by the 'color' keyword argument and the fmt string \"ro\" (-> color='r'). The keyword argument will take precedence.\n",
      "  plt.plot(x,y,'ro',c='black')\n",
      "C:\\Users\\tyler\\AppData\\Local\\Temp\\ipykernel_28876\\210834878.py:13: UserWarning: color is redundantly defined by the 'color' keyword argument and the fmt string \"-r\" (-> color='r'). The keyword argument will take precedence.\n",
      "  plt.plot(fx,fy,'-r',c='black')\n"
     ]
    },
    {
     "data": {
      "image/png": "[encoded data removed]",
      "text/plain": [
       "<Figure size 400x400 with 1 Axes>"
      ]
     },
     "metadata": {},
     "output_type": "display_data"
    }
   ],
   "source": [
    "#Plot with 7 points\n",
    "x,y=prob1_1(5)\n",
    "b_hat = prob1_2(x,y)\n",
    "prob1_4(x,y,b_hat)"
   ]
  },
  {
   "cell_type": "markdown",
   "metadata": {},
   "source": [
    "---------------------------"
   ]
  },
  {
   "cell_type": "markdown",
   "metadata": {},
   "source": [
    "## Problem 2"
   ]
  },
  {
   "cell_type": "markdown",
   "metadata": {},
   "source": [
    "#### Least squares with polynomial basis\n",
    "Once again, let $(x_1, y_1), (x_2, y_2), . . . , (x_n, y_n)$ be a collection of $n$ points in $\\mathbb{R}^2$ for some $n ∈ \\mathbb{Z}_+$. Suppose now, however, that one does not wish to perfectly fit the data points (which occurs in nearly 100% of cases) but would prefer instead to find a low-order polynomial approximation to the data points.\n",
    "\n",
    "Let $0 ≤ m < n$ be an integer and define the $(m − 1)$-order polynomial $g(x)$ as\n",
    "\n",
    "&emsp;$g(x)=b_0+b_1x+...+b_{m-1}x^{m-1}$\n",
    "\n",
    "&emsp;&emsp;$\\sum_{j=1}^{m-1} b_jx^j$\n",
    "\n",
    "We seek $g(x)$ such that\n",
    "$\\sum_{i=1}^{n} (y_i-g(x_i))^2$ is minimized. Let $y ∈ \\mathbb{R}^n$ be defined as in Equation (1) and\n",
    "define the matrix $\\mathbf{A} ∈ \\mathbb{R}^{n×m}$ as consisting of columns\n",
    "\n",
    "&emsp;$a_k=\\begin{pmatrix}x_1^k\\\\x_2^k\\\\...\\\\x_n^k\\end{pmatrix}∈\\mathbb{R}^n$\n",
    "\n",
    "for $k = 0, 1, . . . ,m − 1$. That is, $\\mathbf{A} = \\begin{bmatrix}a_0& a_1 &. . . &a_{m−1}\\end{bmatrix}$. We seek $b ∈ \\mathbb{R}^m$ such that the quantity $∥\\mathbf{y − Ab}∥^2$ is minimized.\n",
    "\n"
   ]
  },
  {
   "cell_type": "markdown",
   "metadata": {},
   "source": [
    "**2.1** Write the normal equations for this least squares problem and then determine an expression for $\\hat b\n",
    "∈ \\mathbb{R}^m$, the coefficients of the polynomial\n",
    "\n",
    "&emsp;$\\hat g(x)=\\hat b_0+\\hat b_1x+...+\\hat b_{m-1}x^{m-1}$\n",
    "\n",
    "that minimizes $∥\\mathbf{y − Ab}∥^2=\\sum_{i=1}^{n} (y_i-g(x_i))^2$.\n"
   ]
  },
  {
   "cell_type": "markdown",
   "metadata": {},
   "source": [
    ">&emsp;Where\n",
    ">\n",
    ">&emsp;&emsp;$\\mathbf{A}=\\begin{pmatrix}x_1^0&x_1^1&...&x_1^m\\\\x_2^0&...\\\\...&&...\\\\x_n^0&&&x_n^m\\end{pmatrix}$\n",
    ">\n",
    ">&emsp;Solving the normal equations for $\\hat b$.\n",
    ">\n",
    ">&emsp;&emsp;$\\mathbf{A^TA\\hat b=A^Ty}$\n",
    ">\n",
    ">&emsp;&emsp;$\\mathbf{\\hat b=(A^TA)^{-1}(A^Ty)}$"
   ]
  },
  {
   "cell_type": "code",
   "execution_count": 9,
   "metadata": {},
   "outputs": [
    {
     "data": {
      "text/plain": [
       "'def ls(X,y):\\nXt = np.transpose(X)\\nXtX = np.matmul(Xt,X)\\nXtXinv = np.linalg.inv(XtX)\\nXty = np.matmul(Xt,y)\\nreturn np.matmul(XtXinv,Xty)'"
      ]
     },
     "execution_count": 9,
     "metadata": {},
     "output_type": "execute_result"
    }
   ],
   "source": [
    "# least squares estimation\n",
    "'''def ls(X,y):\n",
    "Xt = np.transpose(X)\n",
    "XtX = np.matmul(Xt,X)\n",
    "XtXinv = np.linalg.inv(XtX)\n",
    "Xty = np.matmul(Xt,y)\n",
    "return np.matmul(XtXinv,Xty)'''"
   ]
  },
  {
   "cell_type": "markdown",
   "metadata": {},
   "source": [
    "**2.2** Write a program that accepts as input $\\mathbf{x, y} ∈ \\mathbb{R}^n$, as defined in Equation (1), and computes the vector of coefficients $\\hat b$."
   ]
  },
  {
   "cell_type": "code",
   "execution_count": 10,
   "metadata": {},
   "outputs": [
    {
     "data": {
      "text/plain": [
       "array([ 3.16666667,  2.5978836 , -0.99305556,  0.24537037, -0.02083333])"
      ]
     },
     "execution_count": 10,
     "metadata": {},
     "output_type": "execute_result"
    }
   ],
   "source": [
    "#This function takes as inputs x, and computes the matrix A with m = n-1\n",
    "def matrixa(x):\n",
    "    #Build matrix A for m = n\n",
    "    a = np.zeros((len(x),len(x)))\n",
    "    for i in range(len(x)):\n",
    "        for j in range(len(x)):\n",
    "            a[i][j]=x[i]**j\n",
    "    return a\n",
    "\n",
    "#This function takes as inputs the vectors x and y and the integer m, and computes the coefficients b.\n",
    "def prob2_2(x,y,m):\n",
    "    a = matrixa(x)\n",
    "    a = a[:,:m]\n",
    "    aT = np.transpose(a)\n",
    "    aTa = np.matmul(aT,a)\n",
    "    aTa_inv = np.linalg.inv(aTa)\n",
    "    aTy = np.matmul(aT,y)\n",
    "    b_hat = np.matmul(aTa_inv,aTy)\n",
    "    return b_hat\n",
    " \n",
    "\n",
    "prob2_2([1,2,3,4,5,6],[5,6,7,8,9,9],5)"
   ]
  },
  {
   "cell_type": "markdown",
   "metadata": {},
   "source": [
    "**2.3** Use your program from 1.1 to simulate $n ∈ \\mathbb{Z}_+$ data points $\\mathbf{x, y} ∈ \\mathbb{R}^n$ and store these values. These same values must be used in each of the following subproblems."
   ]
  },
  {
   "cell_type": "code",
   "execution_count": 11,
   "metadata": {},
   "outputs": [
    {
     "data": {
      "text/plain": [
       "(array([-1.2194146 , -0.2842049 ,  1.03217304,  0.15799925]),\n",
       " array([-0.35531502, -1.05862584,  0.32538477,  1.41921425]))"
      ]
     },
     "execution_count": 11,
     "metadata": {},
     "output_type": "execute_result"
    }
   ],
   "source": [
    "x1,y1=prob1_1(4)\n",
    "x1,y1"
   ]
  },
  {
   "cell_type": "markdown",
   "metadata": {},
   "source": [
    "**2.3a** Write a program that computes the squared error $\\sum_{i=1}^{n} (y_i-g(x_i))^2$ for any set of coefficients in the polynomial."
   ]
  },
  {
   "cell_type": "code",
   "execution_count": 12,
   "metadata": {},
   "outputs": [
    {
     "data": {
      "text/plain": [
       "2.653872231087259"
      ]
     },
     "execution_count": 12,
     "metadata": {},
     "output_type": "execute_result"
    }
   ],
   "source": [
    "#Compute the squared error for any two vectors x and y, and integer m\n",
    "def prob2_3a(x,y,m):\n",
    "    b = prob2_2(x,y,m)\n",
    "    err=0\n",
    "    for i in range(len(x)):\n",
    "        gx = prob1_3(x[i],b)\n",
    "        err+=(y[i]-gx)**2\n",
    "    return float(err)\n",
    "\n",
    "#Run an example.\n",
    "prob2_3a(x1,y1,3)"
   ]
  },
  {
   "cell_type": "markdown",
   "metadata": {},
   "source": [
    "**2.3b** For the data points that you recently simulated and stored, fit an $(m − 1)$-order polynomial to the data points, for $m = 1, 2, . . . , n$ and compute the squared error loss $\\sum_{i=1}^{n} (y_i-g(x_i))^2$ for each value of $m$. Produce a plot of these values with squared error loss along the vertical axis and $m = 0, 1, . . . , n − 1$ along the horizontal axis."
   ]
  },
  {
   "cell_type": "code",
   "execution_count": 13,
   "metadata": {},
   "outputs": [
    {
     "name": "stderr",
     "output_type": "stream",
     "text": [
      "C:\\Users\\tyler\\AppData\\Local\\Temp\\ipykernel_28876\\210834878.py:12: UserWarning: color is redundantly defined by the 'color' keyword argument and the fmt string \"ro\" (-> color='r'). The keyword argument will take precedence.\n",
      "  plt.plot(x,y,'ro',c='black')\n",
      "C:\\Users\\tyler\\AppData\\Local\\Temp\\ipykernel_28876\\210834878.py:13: UserWarning: color is redundantly defined by the 'color' keyword argument and the fmt string \"-r\" (-> color='r'). The keyword argument will take precedence.\n",
      "  plt.plot(fx,fy,'-r',c='black')\n"
     ]
    },
    {
     "data": {
      "image/png": "[encoded data removed]",
      "text/plain": [
       "<Figure size 400x400 with 1 Axes>"
      ]
     },
     "metadata": {},
     "output_type": "display_data"
    },
    {
     "data": {
      "image/png": "[encoded data removed]",
      "text/plain": [
       "<Figure size 400x400 with 1 Axes>"
      ]
     },
     "metadata": {},
     "output_type": "display_data"
    },
    {
     "data": {
      "image/png": "[encoded data removed]",
      "text/plain": [
       "<Figure size 400x400 with 1 Axes>"
      ]
     },
     "metadata": {},
     "output_type": "display_data"
    },
    {
     "data": {
      "image/png": "[encoded data removed]",
      "text/plain": [
       "<Figure size 400x400 with 1 Axes>"
      ]
     },
     "metadata": {},
     "output_type": "display_data"
    }
   ],
   "source": [
    "# m = 1\n",
    "b1 = prob2_2(x1,y1,1)\n",
    "e1 = prob2_3a(x1,y1,1)\n",
    "prob1_4(x,y,b1)\n",
    "\n",
    "# m = 2\n",
    "b2 = prob2_2(x1,y1,2)\n",
    "e2 = prob2_3a(x1,y1,2)\n",
    "prob1_4(x,y,b2)\n",
    "\n",
    "# m = 3\n",
    "b3 = prob2_2(x1,y1,3)\n",
    "e3 = prob2_3a(x1,y1,3)\n",
    "prob1_4(x,y,b3)\n",
    "\n",
    "# m = 4\n",
    "b4 = prob2_2(x1,y1,4)\n",
    "e4 = prob2_3a(x1,y1,4)\n",
    "prob1_4(x,y,b4)"
   ]
  },
  {
   "cell_type": "markdown",
   "metadata": {},
   "source": [
    "**2.4** We will now simulate data, so that we have knowledge of the true relationship between $x, y ∈ \\mathbb{R}$."
   ]
  },
  {
   "cell_type": "markdown",
   "metadata": {},
   "source": [
    "**2.4a** Program this function.\n",
    "\n",
    "&emsp;$\\mathbf{Input:}\\newline$\n",
    "&emsp;$n: \\text{number of data points } (x_i, y_i)\\newline$\n",
    "&emsp;$m: \\text{one more than the order of the polynomial } g(x)\\newline$\n",
    "&emsp;$σ > 0: \\text{the standard deviation of the error terms}\\newline$\n",
    "&emsp;$\\text{Assumption: }m < n\\newline$\n",
    "&emsp;$\\mathbf{Output:}\\newline$\n",
    "&emsp;$\\mathbf{x, y} ∈ \\mathbb{R}^n: \\text{the simulated data}\\newline$\n",
    "&emsp;$\\mathbf{b} ∈ \\mathbb{R}^m: \\text{the vector of coefficients used to simulate the data}\\newline$\n",
    "***\n",
    "&emsp;$x ∈ \\mathbb{R}^n ∼ N(\\mathbf{0, I}); $&emsp;$\\text{// x consists of }n\\text{ independent standard normal random variables.}\\newline$\n",
    "&emsp;$b ∈ \\mathbb{R}^m ∼ N(\\mathbf{0, I}); $&emsp;$\\text{// b consists of }m\\text{ independent standard normal random variables.}\\newline$\n",
    "&emsp;$ϵ ∈ \\mathbb{R}^n ∼ N(\\mathbf{0, σ^2I}); $&emsp;$\\text{// ϵ consists of }n\\text{ independent normal random variables with}\\newline$&emsp;$\\text{mean 0 and standard deviation σ.}\\newline$\n",
    "&emsp;$\\text{Initialize } y ∈ \\mathbb{R}^n\\newline$\n",
    "&emsp;$\\text{for } i = 1, 2, . . . , n \\text{ do}\\newline$\n",
    "&emsp;$y_i ← \\text{Horner}(\\mathbf{b}, x_i);\\newline$\n",
    "&emsp;$\\mathbf{end}\\newline$\n",
    "&emsp;$\\mathbf{return\\text{ } x, y, b}$"
   ]
  },
  {
   "cell_type": "markdown",
   "metadata": {},
   "source": [
    "Please see https://en.wikipedia.org/wiki/Horner%27s_method for more information on Horner’s rule."
   ]
  },
  {
   "cell_type": "code",
   "execution_count": null,
   "metadata": {},
   "outputs": [],
   "source": []
  },
  {
   "cell_type": "markdown",
   "metadata": {},
   "source": [
    "**2.4b** For $m = 0, 1, . . . , n − 1$, find the best fit polynomial to the data simulated by the program in Exercise 2.4a."
   ]
  },
  {
   "cell_type": "code",
   "execution_count": null,
   "metadata": {},
   "outputs": [],
   "source": []
  },
  {
   "cell_type": "markdown",
   "metadata": {},
   "source": [
    "**2.4c** Use your program from 2.3a and compute the squared error loss by the least squares approximation, i.e., low-order polynomial fit, to the data for polynomials of order $m = 0, 1, . . . , n − 1$. Produce a plot of these values with squared error loss along the vertical axis and values of m along the horizontal axis."
   ]
  },
  {
   "cell_type": "code",
   "execution_count": null,
   "metadata": {},
   "outputs": [],
   "source": []
  },
  {
   "cell_type": "markdown",
   "metadata": {},
   "source": [
    "**2.5** Now that you are able to simulate $n ∈ \\mathbb{R}^n$ data points in $\\mathbb{R}^2$ from a polynomial of a given order, and that you are able to estimate the coefficients of a polynomial of any order $m = 0, 1, . . . , n − 1$, and that you are able to compute the error of approximation through the squared error loss function, please experiment with situations in which\n",
    "- $m^∗$: the order of the polynomial that generated the data\n",
    "- $m$: the order of the polynomial that you will fit to the data via least squares approximation\n",
    "- $n$: sample size\n",
    "- $σ$: standard deviation of the random errors.\n",
    "\n",
    "Note that it must be that $n > m$ and that $n > m^∗$ in order for your programs to run properly. Produce some interesting plots that may suggest that the squared error loss $\\sum_{i=1}^{n} (y_i-g(x_i))^2$ is generally minimized around $m ≈ m^∗$."
   ]
  },
  {
   "cell_type": "code",
   "execution_count": null,
   "metadata": {},
   "outputs": [],
   "source": []
  }
 ],
 "metadata": {
  "kernelspec": {
   "display_name": "Python 3",
   "language": "python",
   "name": "python3"
  },
  "language_info": {
   "codemirror_mode": {
    "name": "ipython",
    "version": 3
   },
   "file_extension": ".py",
   "mimetype": "text/x-python",
   "name": "python",
   "nbconvert_exporter": "python",
   "pygments_lexer": "ipython3",
   "version": "3.13.0"
  }
 },
 "nbformat": 4,
 "nbformat_minor": 2
}
